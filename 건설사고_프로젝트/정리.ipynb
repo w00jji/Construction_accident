{
 "cells": [
  {
   "cell_type": "markdown",
   "id": "07b09e4b-7dcb-47f2-848e-2429f75ae1ee",
   "metadata": {},
   "source": [
    "### 국토안전관리원_빅데이터를 활용한 AI 기반 건설현장 점검 대상 선정 데이터셋"
   ]
  },
  {
   "cell_type": "code",
   "execution_count": null,
   "id": "c94b9c18-8118-4c27-a0bf-4929c09b5e32",
   "metadata": {},
   "outputs": [],
   "source": [
    "import matplotlib.pyplot as plt\n",
    "import pandas as pd\n",
    "\n",
    "# 예시 데이터프레임 생성 (df1_clean이 실제 데이터프레임이라고 가정)\n",
    "# df1_clean = pd.read_csv('your_data.csv')  # 실제 데이터 로딩\n",
    "\n",
    "# 발주자 구분별 사고 여부 집계\n",
    "df_grouped = df1_clean.groupby(['발주자구분', '사고여부']).size().unstack(fill_value=0)\n",
    "\n",
    "# 비율 계산\n",
    "df_grouped_percentage = df_grouped.div(df_grouped.sum(axis=1), axis=0) * 100\n",
    "\n",
    "# 스택 막대그래프 시각화\n",
    "plt.figure(figsize=(12, 6))\n",
    "\n",
    "# 사고 없음 비율\n",
    "plt.bar(df_grouped_percentage.index, df_grouped_percentage[0], label='사고 없음', color='skyblue')\n",
    "\n",
    "# 사고 발생 비율 (위에 쌓기)\n",
    "plt.bar(df_grouped_percentage.index, df_grouped_percentage[1], bottom=df_grouped_percentage[0], label='사고 발생', color='salmon')\n",
    "\n",
    "plt.title('발주자 구분별 사고 여부 비율')\n",
    "plt.xlabel('발주자 구분')\n",
    "plt.ylabel('비율 (%)')\n",
    "plt.legend(title='사고 여부')\n",
    "plt.xticks(rotation=45)  # x축 레이블 회전\n",
    "plt.tight_layout()\n",
    "\n",
    "# 그래프에 수치 추가\n",
    "for i, idx in enumerate(df_grouped_percentage.index):\n",
    "    plt.text(i, df_grouped_percentage.loc[idx, 0] / 2, f'{df_grouped_percentage.loc[idx, 0]:.1f}%', ha='center', va='center', color='black')\n",
    "    plt.text(i, df_grouped_percentage.loc[idx, 0] + df_grouped_percentage.loc[idx, 1] / 2, f'{df_grouped_percentage.loc[idx, 1]:.1f}%', ha='center', va='center', color='black')\n",
    "\n",
    "plt.show()\n"
   ]
  }
 ],
 "metadata": {
  "kernelspec": {
   "display_name": "Python 3 (ipykernel)",
   "language": "python",
   "name": "python3"
  },
  "language_info": {
   "codemirror_mode": {
    "name": "ipython",
    "version": 3
   },
   "file_extension": ".py",
   "mimetype": "text/x-python",
   "name": "python",
   "nbconvert_exporter": "python",
   "pygments_lexer": "ipython3",
   "version": "3.11.7"
  }
 },
 "nbformat": 4,
 "nbformat_minor": 5
}
